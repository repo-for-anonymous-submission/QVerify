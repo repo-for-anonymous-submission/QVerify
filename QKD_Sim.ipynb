{
  "cells": [
    {
      "cell_type": "markdown",
      "metadata": {
        "id": "3t6TVAWx68e0"
      },
      "source": [
        "# **Pip install**"
      ]
    },
    {
      "cell_type": "code",
      "execution_count": 1,
      "metadata": {
        "colab": {
          "base_uri": "https://localhost:8080/"
        },
        "id": "Qr5LChaba_RU",
        "outputId": "99f0793c-5308-492c-f1eb-67717bdb2c43"
      },
      "outputs": [
        {
          "output_type": "stream",
          "name": "stdout",
          "text": [
            "Collecting qiskit\n",
            "  Downloading qiskit-1.3.1-cp39-abi3-manylinux_2_17_x86_64.manylinux2014_x86_64.whl.metadata (12 kB)\n",
            "Collecting rustworkx>=0.15.0 (from qiskit)\n",
            "  Downloading rustworkx-0.15.1-cp38-abi3-manylinux_2_17_x86_64.manylinux2014_x86_64.whl.metadata (9.9 kB)\n",
            "Requirement already satisfied: numpy<3,>=1.17 in /usr/local/lib/python3.10/dist-packages (from qiskit) (1.26.4)\n",
            "Requirement already satisfied: scipy>=1.5 in /usr/local/lib/python3.10/dist-packages (from qiskit) (1.13.1)\n",
            "Requirement already satisfied: sympy>=1.3 in /usr/local/lib/python3.10/dist-packages (from qiskit) (1.13.1)\n",
            "Collecting dill>=0.3 (from qiskit)\n",
            "  Downloading dill-0.3.9-py3-none-any.whl.metadata (10 kB)\n",
            "Requirement already satisfied: python-dateutil>=2.8.0 in /usr/local/lib/python3.10/dist-packages (from qiskit) (2.8.2)\n",
            "Collecting stevedore>=3.0.0 (from qiskit)\n",
            "  Downloading stevedore-5.4.0-py3-none-any.whl.metadata (2.3 kB)\n",
            "Requirement already satisfied: typing-extensions in /usr/local/lib/python3.10/dist-packages (from qiskit) (4.12.2)\n",
            "Collecting symengine<0.14,>=0.11 (from qiskit)\n",
            "  Downloading symengine-0.13.0-cp310-cp310-manylinux_2_17_x86_64.manylinux2014_x86_64.whl.metadata (1.2 kB)\n",
            "Requirement already satisfied: six>=1.5 in /usr/local/lib/python3.10/dist-packages (from python-dateutil>=2.8.0->qiskit) (1.17.0)\n",
            "Collecting pbr>=2.0.0 (from stevedore>=3.0.0->qiskit)\n",
            "  Downloading pbr-6.1.0-py2.py3-none-any.whl.metadata (3.4 kB)\n",
            "Requirement already satisfied: mpmath<1.4,>=1.1.0 in /usr/local/lib/python3.10/dist-packages (from sympy>=1.3->qiskit) (1.3.0)\n",
            "Downloading qiskit-1.3.1-cp39-abi3-manylinux_2_17_x86_64.manylinux2014_x86_64.whl (6.7 MB)\n",
            "\u001b[2K   \u001b[90m━━━━━━━━━━━━━━━━━━━━━━━━━━━━━━━━━━━━━━━━\u001b[0m \u001b[32m6.7/6.7 MB\u001b[0m \u001b[31m17.8 MB/s\u001b[0m eta \u001b[36m0:00:00\u001b[0m\n",
            "\u001b[?25hDownloading dill-0.3.9-py3-none-any.whl (119 kB)\n",
            "\u001b[2K   \u001b[90m━━━━━━━━━━━━━━━━━━━━━━━━━━━━━━━━━━━━━━━━\u001b[0m \u001b[32m119.4/119.4 kB\u001b[0m \u001b[31m6.8 MB/s\u001b[0m eta \u001b[36m0:00:00\u001b[0m\n",
            "\u001b[?25hDownloading rustworkx-0.15.1-cp38-abi3-manylinux_2_17_x86_64.manylinux2014_x86_64.whl (2.0 MB)\n",
            "\u001b[2K   \u001b[90m━━━━━━━━━━━━━━━━━━━━━━━━━━━━━━━━━━━━━━━━\u001b[0m \u001b[32m2.0/2.0 MB\u001b[0m \u001b[31m39.8 MB/s\u001b[0m eta \u001b[36m0:00:00\u001b[0m\n",
            "\u001b[?25hDownloading stevedore-5.4.0-py3-none-any.whl (49 kB)\n",
            "\u001b[2K   \u001b[90m━━━━━━━━━━━━━━━━━━━━━━━━━━━━━━━━━━━━━━━━\u001b[0m \u001b[32m49.5/49.5 kB\u001b[0m \u001b[31m3.5 MB/s\u001b[0m eta \u001b[36m0:00:00\u001b[0m\n",
            "\u001b[?25hDownloading symengine-0.13.0-cp310-cp310-manylinux_2_17_x86_64.manylinux2014_x86_64.whl (49.7 MB)\n",
            "\u001b[2K   \u001b[90m━━━━━━━━━━━━━━━━━━━━━━━━━━━━━━━━━━━━━━━━\u001b[0m \u001b[32m49.7/49.7 MB\u001b[0m \u001b[31m10.2 MB/s\u001b[0m eta \u001b[36m0:00:00\u001b[0m\n",
            "\u001b[?25hDownloading pbr-6.1.0-py2.py3-none-any.whl (108 kB)\n",
            "\u001b[2K   \u001b[90m━━━━━━━━━━━━━━━━━━━━━━━━━━━━━━━━━━━━━━━━\u001b[0m \u001b[32m108.5/108.5 kB\u001b[0m \u001b[31m7.3 MB/s\u001b[0m eta \u001b[36m0:00:00\u001b[0m\n",
            "\u001b[?25hInstalling collected packages: symengine, rustworkx, pbr, dill, stevedore, qiskit\n",
            "Successfully installed dill-0.3.9 pbr-6.1.0 qiskit-1.3.1 rustworkx-0.15.1 stevedore-5.4.0 symengine-0.13.0\n",
            "Collecting qiskit-aer\n",
            "  Downloading qiskit_aer-0.15.1-cp310-cp310-manylinux_2_17_x86_64.manylinux2014_x86_64.whl.metadata (8.0 kB)\n",
            "Requirement already satisfied: qiskit>=1.1.0 in /usr/local/lib/python3.10/dist-packages (from qiskit-aer) (1.3.1)\n",
            "Requirement already satisfied: numpy>=1.16.3 in /usr/local/lib/python3.10/dist-packages (from qiskit-aer) (1.26.4)\n",
            "Requirement already satisfied: scipy>=1.0 in /usr/local/lib/python3.10/dist-packages (from qiskit-aer) (1.13.1)\n",
            "Requirement already satisfied: psutil>=5 in /usr/local/lib/python3.10/dist-packages (from qiskit-aer) (5.9.5)\n",
            "Requirement already satisfied: rustworkx>=0.15.0 in /usr/local/lib/python3.10/dist-packages (from qiskit>=1.1.0->qiskit-aer) (0.15.1)\n",
            "Requirement already satisfied: sympy>=1.3 in /usr/local/lib/python3.10/dist-packages (from qiskit>=1.1.0->qiskit-aer) (1.13.1)\n",
            "Requirement already satisfied: dill>=0.3 in /usr/local/lib/python3.10/dist-packages (from qiskit>=1.1.0->qiskit-aer) (0.3.9)\n",
            "Requirement already satisfied: python-dateutil>=2.8.0 in /usr/local/lib/python3.10/dist-packages (from qiskit>=1.1.0->qiskit-aer) (2.8.2)\n",
            "Requirement already satisfied: stevedore>=3.0.0 in /usr/local/lib/python3.10/dist-packages (from qiskit>=1.1.0->qiskit-aer) (5.4.0)\n",
            "Requirement already satisfied: typing-extensions in /usr/local/lib/python3.10/dist-packages (from qiskit>=1.1.0->qiskit-aer) (4.12.2)\n",
            "Requirement already satisfied: symengine<0.14,>=0.11 in /usr/local/lib/python3.10/dist-packages (from qiskit>=1.1.0->qiskit-aer) (0.13.0)\n",
            "Requirement already satisfied: six>=1.5 in /usr/local/lib/python3.10/dist-packages (from python-dateutil>=2.8.0->qiskit>=1.1.0->qiskit-aer) (1.17.0)\n",
            "Requirement already satisfied: pbr>=2.0.0 in /usr/local/lib/python3.10/dist-packages (from stevedore>=3.0.0->qiskit>=1.1.0->qiskit-aer) (6.1.0)\n",
            "Requirement already satisfied: mpmath<1.4,>=1.1.0 in /usr/local/lib/python3.10/dist-packages (from sympy>=1.3->qiskit>=1.1.0->qiskit-aer) (1.3.0)\n",
            "Downloading qiskit_aer-0.15.1-cp310-cp310-manylinux_2_17_x86_64.manylinux2014_x86_64.whl (12.3 MB)\n",
            "\u001b[2K   \u001b[90m━━━━━━━━━━━━━━━━━━━━━━━━━━━━━━━━━━━━━━━━\u001b[0m \u001b[32m12.3/12.3 MB\u001b[0m \u001b[31m73.3 MB/s\u001b[0m eta \u001b[36m0:00:00\u001b[0m\n",
            "\u001b[?25hInstalling collected packages: qiskit-aer\n",
            "Successfully installed qiskit-aer-0.15.1\n",
            "Collecting pylatexenc\n",
            "  Downloading pylatexenc-2.10.tar.gz (162 kB)\n",
            "\u001b[2K     \u001b[90m━━━━━━━━━━━━━━━━━━━━━━━━━━━━━━━━━━━━━━━━\u001b[0m \u001b[32m162.6/162.6 kB\u001b[0m \u001b[31m3.2 MB/s\u001b[0m eta \u001b[36m0:00:00\u001b[0m\n",
            "\u001b[?25h  Preparing metadata (setup.py) ... \u001b[?25l\u001b[?25hdone\n",
            "Building wheels for collected packages: pylatexenc\n",
            "  Building wheel for pylatexenc (setup.py) ... \u001b[?25l\u001b[?25hdone\n",
            "  Created wheel for pylatexenc: filename=pylatexenc-2.10-py3-none-any.whl size=136816 sha256=de37ea5a7a4f4d23fc72f2801c36db3b24ea891b6255dcc663a4de061cd1ff54\n",
            "  Stored in directory: /root/.cache/pip/wheels/d3/31/8b/e09b0386afd80cfc556c00408c9aeea5c35c4d484a9c762fd5\n",
            "Successfully built pylatexenc\n",
            "Installing collected packages: pylatexenc\n",
            "Successfully installed pylatexenc-2.10\n"
          ]
        }
      ],
      "source": [
        "!pip install qiskit\n",
        "!pip install qiskit-aer\n",
        "!pip install pylatexenc"
      ]
    },
    {
      "cell_type": "markdown",
      "metadata": {
        "id": "Dyd7ZxGP6_Tn"
      },
      "source": [
        "# **import**"
      ]
    },
    {
      "cell_type": "code",
      "execution_count": 2,
      "metadata": {
        "id": "pu_e3RfI67Xw"
      },
      "outputs": [],
      "source": [
        "import numpy as np\n",
        "import random\n",
        "import math\n",
        "# importing the QISKit\n",
        "from qiskit import QuantumCircuit, QuantumRegister, ClassicalRegister\n",
        "from qiskit import transpile\n",
        "from qiskit.providers.basic_provider import BasicSimulator\n",
        "from qiskit.transpiler.preset_passmanagers import generate_preset_pass_manager\n",
        "from qiskit.visualization import plot_histogram\n",
        "from qiskit_aer import AerSimulator\n",
        "# Import from Qiskit Aer noise module\n",
        "from qiskit_aer.noise import (NoiseModel, QuantumError, ReadoutError,pauli_error, depolarizing_error, thermal_relaxation_error)"
      ]
    },
    {
      "cell_type": "markdown",
      "metadata": {
        "id": "zNvZlce6NSo4"
      },
      "source": []
    },
    {
      "cell_type": "markdown",
      "metadata": {
        "id": "R1s_izCrOnXv"
      },
      "source": [
        "# **Utils_functions**"
      ]
    },
    {
      "cell_type": "code",
      "execution_count": 3,
      "metadata": {
        "id": "aw4NSb5hVFhQ"
      },
      "outputs": [],
      "source": [
        "def hamming_distance(list1, list2):\n",
        "    # Ensure both lists have the same length\n",
        "    if len(list1) != len(list2):\n",
        "        raise ValueError(\"Bit lists must have the same length\")\n",
        "\n",
        "    # Use zip to iterate over corresponding bits in both lists\n",
        "    # and count the differing bits\n",
        "    distance = sum(bit1 != bit2 for bit1, bit2 in zip(list1, list2))\n",
        "\n",
        "    return distance\n",
        "\n",
        "def bitarray2int(bit_array):\n",
        "  # Convert the bit array to a string\n",
        "  bit_string = ''.join(map(str, bit_array))\n",
        "\n",
        "  # Convert the binary string to an integer\n",
        "  result = int(bit_string, 2)\n",
        "\n",
        "  return result\n",
        "\n",
        "def relative_error_cal(approximate_value, true_value):\n",
        "    try:\n",
        "        error = (approximate_value - true_value) / abs(true_value)\n",
        "        return round(error,3)\n",
        "    except ZeroDivisionError:\n",
        "        print(\"Error: Division by zero. True value cannot be zero.\")\n",
        "        return None\n",
        "def bitstr2arr(bitstr):\n",
        "  return [int(i) for i in bitstr]"
      ]
    },
    {
      "cell_type": "code",
      "execution_count": 4,
      "metadata": {
        "id": "gtbfdagOzCLS"
      },
      "outputs": [],
      "source": [
        "def bitarray2str(bit_array):\n",
        "  # Convert the bit array to a string\n",
        "  return  \"\".join(str(i) for i in bit_array)\n",
        "# \"\".join(str(i) for i in alice_raw_key), \"\".join(str(i) for i in SA),\"\".join(str(i) for i in SB),\"\".join(str(i) for i in alice_basis),\"\".join(str(i) for i in bob_basis)"
      ]
    },
    {
      "cell_type": "code",
      "execution_count": 5,
      "metadata": {
        "id": "MR1Bbp7GY2sD"
      },
      "outputs": [],
      "source": [
        "def calculate_qber(selected_bitsAlice, selected_bitsBob):\n",
        "    \"\"\"\n",
        "    Calculate the Quantum Bit Error Rate (QBER) based on selected bits from Alice and Bob.\n",
        "\n",
        "    Parameters:\n",
        "    selected_bitsAlice (list of int): The list of bits from Alice (either 0 or 1).\n",
        "    selected_bitsBob (list of int): The list of bits from Bob (either 0 or 1).\n",
        "\n",
        "    Returns:\n",
        "    float: The calculated QBER, which is the ratio of differing bits to the total number of compared bits.\n",
        "    \"\"\"\n",
        "    if len(selected_bitsAlice) != len(selected_bitsBob):\n",
        "        raise ValueError(\"The bit lists from Alice and Bob must be of the same length.\")\n",
        "\n",
        "    # Count the number of differing bits\n",
        "    differing_bits = 0\n",
        "    total_bits = len(selected_bitsAlice)\n",
        "\n",
        "    for i in range(total_bits):\n",
        "        if selected_bitsAlice[i] != selected_bitsBob[i]:\n",
        "            differing_bits += 1\n",
        "\n",
        "    # Calculate QBER as the ratio of differing bits to the total number of bits\n",
        "    qber = differing_bits / total_bits\n",
        "    return qber"
      ]
    },
    {
      "cell_type": "markdown",
      "metadata": {
        "id": "Ln_ZhfALG9jY"
      },
      "source": [
        "# **SIM**"
      ]
    },
    {
      "cell_type": "code",
      "execution_count": 6,
      "metadata": {
        "id": "-zoTqZC2HC1f"
      },
      "outputs": [],
      "source": [
        "def sim_circuits_no_noise(circuit,shots=1):\n",
        "  # sim_ideal = AerSimulator(method='automatic')\n",
        "  sim_ideal = AerSimulator(method='matrix_product_state')\n",
        "  job = sim_ideal.run(circuit, shots=shots)\n",
        "  result_ideal = job.result()\n",
        "  return result_ideal"
      ]
    },
    {
      "cell_type": "code",
      "execution_count": 7,
      "metadata": {
        "id": "3Qv-9HQ7VAQK"
      },
      "outputs": [],
      "source": [
        "from qiskit_aer.noise import (NoiseModel, depolarizing_error, amplitude_damping_error, thermal_relaxation_error)\n",
        "from qiskit_aer import AerSimulator\n",
        "\n",
        "def sim_circuits_with_noise(circuit, shots=1, L=10):\n",
        "    \"\"\"\n",
        "    Simulate a quantum circuit with noise, where noise is influenced by the distance L.\n",
        "\n",
        "    Parameters:\n",
        "    - circuit: The quantum circuit to simulate.\n",
        "    - shots: Number of shots for the simulation (default is 1).\n",
        "    - L: Distance factor that influences noise (default is 10).\n",
        "\n",
        "    Returns:\n",
        "    - result: The simulation result with noise.\n",
        "    \"\"\"\n",
        "\n",
        "    # Noise parameters based on distance L\n",
        "    base_depolarizing_prob = 0.001  # Base depolarizing probability\n",
        "    base_damping_prob = 0.002  # Base amplitude damping probability\n",
        "\n",
        "    # Depolarizing error increases with distance\n",
        "    depolarizing_prob = base_depolarizing_prob * L\n",
        "\n",
        "    # Amplitude damping error, also distance dependent\n",
        "    damping_prob = base_damping_prob * L\n",
        "\n",
        "    # Create noise channels\n",
        "    depolarizing_error_channel = depolarizing_error(depolarizing_prob, 1)  # Single-qubit depolarizing error\n",
        "    amplitude_damping_channel = amplitude_damping_error(damping_prob)\n",
        "\n",
        "    # Create a noise model and add the noise channels\n",
        "    noise_model = NoiseModel()\n",
        "    noise_model.add_all_qubit_quantum_error(depolarizing_error_channel, ['u1', 'u2', 'u3'])  # Apply to all gate types\n",
        "    noise_model.add_all_qubit_quantum_error(amplitude_damping_channel, ['measure'])  # Apply to measurements\n",
        "\n",
        "    # Optional: Add more channels, like phase damping, if needed\n",
        "    # Here you can extend the noise model with additional channels.\n",
        "\n",
        "    # Set up the AerSimulator with noise\n",
        "    sim = AerSimulator(noise_model=noise_model, method='matrix_product_state')\n",
        "\n",
        "    # Run the simulation\n",
        "    job = sim.run(circuit, shots=shots)\n",
        "    result = job.result()\n",
        "\n",
        "    return result"
      ]
    },
    {
      "cell_type": "code",
      "execution_count": 8,
      "metadata": {
        "id": "Q_HzkP5NI_Ta"
      },
      "outputs": [],
      "source": [
        "def sim_circuits(circuit,shots=1,noise=False, L=None):\n",
        "  if noise:\n",
        "    results=sim_circuits_with_noise(circuit,shots=shots, L=L).get_counts()\n",
        "  else:\n",
        "    results=sim_circuits_no_noise(circuit,shots=shots).get_counts()\n",
        "\n",
        "\n",
        "  result_dict = {key: value / shots for key, value in results.items()}\n",
        "  return result_dict"
      ]
    },
    {
      "cell_type": "code",
      "execution_count": 8,
      "metadata": {
        "id": "n7uVbh2sVBbZ"
      },
      "outputs": [],
      "source": []
    },
    {
      "cell_type": "markdown",
      "metadata": {
        "id": "Ozf78f0mV6U9"
      },
      "source": [
        "# **Encoded QKD Functions**"
      ]
    },
    {
      "cell_type": "code",
      "execution_count": 9,
      "metadata": {
        "id": "vA1ktQF3HNK-"
      },
      "outputs": [],
      "source": [
        "def SendQ(num_qubits,alice_raw_key,alice_basis,user=\"Alice\"):\n",
        "  # Creating registers with n qubits\n",
        "  qr = QuantumRegister(num_qubits, name='qr')\n",
        "  crB = ClassicalRegister(num_qubits, name='crB')\n",
        "  quantumChannel = QuantumCircuit(qr, crB)\n",
        "\n",
        "  for i in range(num_qubits):\n",
        "    if alice_raw_key[i] == 1 or alice_raw_key[i] == '1':\n",
        "        quantumChannel.x(qr[i])\n",
        "    if alice_basis[i] == 1 or alice_basis[i] == '1':\n",
        "        quantumChannel.h(qr[i])\n",
        "\n",
        "  quantumChannel.barrier(qr,label=\"AliceSending\")\n",
        "  return qr,crB,quantumChannel\n",
        "\n",
        "def ReceiveQ(num_qubits,bob_basis, qr,crB,quantumChannel,user=\"Bob\"):\n",
        "  for i in range(num_qubits):\n",
        "    if bob_basis[i] == 1 or bob_basis[i] == '1':\n",
        "      quantumChannel.h(qr[i])\n",
        "\n",
        "  quantumChannel.barrier(qr,label=f\"{user}Basis\")\n",
        "  for i in range(num_qubits):\n",
        "    quantumChannel.measure(qr[i],crB[i])\n",
        "  quantumChannel.barrier(qr,label=f\"{user}Measures\")\n",
        "  return quantumChannel"
      ]
    },
    {
      "cell_type": "code",
      "execution_count": 10,
      "metadata": {
        "id": "4e6H97g6WBbh"
      },
      "outputs": [],
      "source": [
        "def Sift(num_qubits,Key,BA,BB):\n",
        "  SiftedKey=\"\"\n",
        "  for i in range(num_qubits):\n",
        "    if BA[i] == BB[i]:\n",
        "      SiftedKey+=str(Key[i])\n",
        "  return SiftedKey"
      ]
    },
    {
      "cell_type": "code",
      "execution_count": 11,
      "metadata": {
        "id": "cz23efyxWpod"
      },
      "outputs": [],
      "source": [
        "def Sample(Key,BA,BB):\n",
        "  # if(BA!=BB):\n",
        "  #   raise ValueError(\"The bit lists from Alice and Bob must be of the same length.\")\n",
        "\n",
        "  Sampledindex=[]\n",
        "  SampledKey=\"\"\n",
        "  GenKey=\"\"\n",
        "  for i in range(len(Key)):\n",
        "    if BA[i] == BB[i] == '1' or BA[i] == BB[i] == 1:\n",
        "      SampledKey+=str(Key[i])\n",
        "      Sampledindex.append(i)\n",
        "    else:\n",
        "      GenKey+=str(Key[i])\n",
        "\n",
        "  return GenKey,SampledKey,Sampledindex"
      ]
    },
    {
      "cell_type": "code",
      "execution_count": 12,
      "metadata": {
        "id": "CpCqw_Z9dlps"
      },
      "outputs": [],
      "source": [
        "# def __init__(self,num_qubits,shots=1):\n",
        "#   num_qubits=num_qubits\n",
        "#   shots=shots\n",
        "#   alice_raw_key   = list(np.random.randint(2, size=num_qubits))\n",
        "#   alice_basis = list(np.random.randint(2, size=num_qubits))\n",
        "#   bob_basis   = list(np.random.randint(2, size=num_qubits))\n",
        "\n",
        "# def Alice_Quantum(num_qubits):\n",
        "#   alice_raw_key   = list(np.random.randint(2, size=num_qubits))\n",
        "#   alice_basis = list(np.random.randint(2, size=num_qubits))\n",
        "#   qr,crB,quantumChannelA2B=SendQ(num_qubits,alice_raw_key,alice_basis,user=\"Alice\")\n",
        "#   return qr,crB,quantumChannelA2B\n",
        "\n",
        "# def Alice_Sift(self,SB):\n",
        "#   #Sift\n",
        "#   KsiftedA=Sift(num_qubits,alice_raw_key,alice_basis,bob_basis)\n",
        "#   SA,KA=Sample(KsiftedA,alice_basis,bob_basis)\n",
        "#   CheckEveA=calculate_qber(SA,SB)\n",
        "\n",
        "#   return qr,crB,quantumChannelA2B,alice_basis,SA\n",
        "\n",
        "# def Bob(self,SA):\n",
        "#   bob_basis   = list(np.random.randint(2, size=num_qubits))\n",
        "#   quantumChannelB=ReceiveQ(num_qubits,bob_basis, qr,crB,quantumChannelA2B,user=\"Bob\")\n",
        "#   resultB=list(sim_circuits(quantumChannelB,shots=1).keys())[0][::-1]\n",
        "#   #Sift\n",
        "#   KsiftedB=Sift(num_qubits,resultB,alice_basis,bob_basis)\n",
        "#   SB,KB=Sample(KsiftedB,alice_basis,bob_basis)\n",
        "#   CheckEveB=calculate_qber(SA,SB)\n",
        "\n",
        "#   return bob_basis, SB"
      ]
    },
    {
      "cell_type": "code",
      "execution_count": 13,
      "metadata": {
        "id": "JLwZW2bTelRr"
      },
      "outputs": [],
      "source": [
        "# num_qubits=100\n",
        "# qr,crB,quantumChannelA2B,alice_basis,SA = Alice_QKD(num_qubits,bob_basis,SB)\n",
        "# bob_basis, SB = Bob_QKD(num_qubits,alice_basis,SA)"
      ]
    },
    {
      "cell_type": "code",
      "execution_count": 14,
      "metadata": {
        "id": "Clr9o09RKtS8"
      },
      "outputs": [],
      "source": [
        "def QKD_Session(num_qubits,shots=1):\n",
        "  alice_raw_key   = list(np.random.randint(2, size=num_qubits))\n",
        "  alice_basis = list(np.random.randint(2, size=num_qubits))\n",
        "  bob_basis   = list(np.random.randint(2, size=num_qubits))\n",
        "\n",
        "\n",
        "\n",
        "  #Quantum Channel\n",
        "  qr,crB,quantumChannelA2B=SendQ(num_qubits,alice_raw_key,alice_basis,user=\"Alice\")\n",
        "  quantumChannelB=ReceiveQ(num_qubits,bob_basis, qr,crB,quantumChannelA2B,user=\"Bob\")\n",
        "  resultB=list(sim_circuits(quantumChannelB,shots=shots).keys())[0][::-1]\n",
        "\n",
        "  #Sift\n",
        "  KsiftedB=Sift(num_qubits,resultB,alice_basis,bob_basis)\n",
        "  KsiftedA=Sift(num_qubits,\"\".join(str(i) for i in alice_raw_key),alice_basis,bob_basis)\n",
        "\n",
        "  #ParameterEstimation\n",
        "  ##Sample\n",
        "\n",
        "  KA,SAv,SAi=Sample(KsiftedA,alice_basis,bob_basis)\n",
        "  KB,SBv,SBi=Sample(KsiftedB,alice_basis,bob_basis)\n",
        "\n",
        "  SA=(SAv,SAi)\n",
        "  SB=(SBv,SBi)\n",
        "  # sampleratio=0.1*num_qubits\n",
        "\n",
        "  # SA=KsiftedA[:int(sampleratio)]\n",
        "  # SB=KsiftedB[:int(sampleratio)]\n",
        "\n",
        "  # KA=KsiftedA[int(sampleratio):]\n",
        "  # KB=KsiftedB[int(sampleratio):]\n",
        "\n",
        "  ##CheckEve\n",
        "  CheckEveA=calculate_qber(SA[0],SB[0])\n",
        "  CheckEveB=calculate_qber(SA[0],SB[0])\n",
        "  # print(f\"(CheckEveA={CheckEveA}; CheckEveB={CheckEveB})\")\n",
        "\n",
        "\n",
        "  return alice_raw_key, SA,SB,alice_basis,bob_basis\n",
        "\n",
        "# \"\".join(str(i) for i in alice_raw_key), \"\".join(str(i) for i in SA),\"\".join(str(i) for i in SB),\"\".join(str(i) for i in alice_basis),\"\".join(str(i) for i in bob_basis)"
      ]
    },
    {
      "cell_type": "code",
      "execution_count": 14,
      "metadata": {
        "id": "_x7RRzjCkS0b"
      },
      "outputs": [],
      "source": []
    },
    {
      "cell_type": "markdown",
      "metadata": {
        "id": "PoflUZYhEXAx"
      },
      "source": [
        "# **Entanglment Functions**"
      ]
    },
    {
      "cell_type": "code",
      "execution_count": 15,
      "metadata": {
        "id": "X3rK5ps5nXek"
      },
      "outputs": [],
      "source": [
        "def measure_cir(circuit,qr,cr,bit):\n",
        "  circuit.measure(qr[bit],cr[bit])\n",
        "  return circuit"
      ]
    },
    {
      "cell_type": "code",
      "execution_count": 16,
      "metadata": {
        "id": "Oto3sDs79snj"
      },
      "outputs": [],
      "source": [
        "# def aliceMeasurementChoices(num_qubits):\n",
        "#   return [random.choice([0, 1, 2]) for i in range(num_qubits)] # string b of Alice\n",
        "\n",
        "# def bobMeasurementChoices(num_qubits):\n",
        "#   return [random.choice([0, 2, 3]) for i in range(num_qubits)] # string b' of Bob\n",
        "\n",
        "def aliceMeasurementChoices(num_qubits):\n",
        "  return [random.choice([1, 2, 3]) for i in range(num_qubits)] # string b of Alice\n",
        "\n",
        "def bobMeasurementChoices(num_qubits):\n",
        "  return [random.choice([1, 2, 3]) for i in range(num_qubits)] # string b' of Bob"
      ]
    },
    {
      "cell_type": "code",
      "execution_count": 17,
      "metadata": {
        "id": "O3KSnL34bAxP"
      },
      "outputs": [],
      "source": [
        "def base_B2_A3(basisB3,qr,bit):\n",
        "  # basis the spin projection of Alice's qubit onto the a_3 direction (standard Z basis)\n",
        "  return basisB3\n",
        "\n",
        "\n",
        "def base_A1(basisB1,qr,bit):\n",
        "  # basis the spin projection of Alice's qubit onto the a_1 direction (X basis)\n",
        "  basisB1.h(qr[bit])\n",
        "  return basisB1\n",
        "\n",
        "\n",
        "def base_A2_B1(basisB2,qr,bit):\n",
        "  # basis the spin projection of Alice's qubit onto the a_2 direction (W basis)\n",
        "  basisB2.s(qr[bit])\n",
        "  basisB2.h(qr[bit])\n",
        "  basisB2.t(qr[bit])\n",
        "  basisB2.h(qr[bit])\n",
        "  return basisB2\n",
        "\n",
        "\n",
        "def base_B3(basisB4,qr,bit):\n",
        "  # basis the spin projection of Bob's qubit onto the b_3 direction (V basis)\n",
        "  basisB4.s(qr[bit])\n",
        "  basisB4.h(qr[bit])\n",
        "  basisB4.tdg(qr[bit])\n",
        "  basisB4.h(qr[bit])\n",
        "  return basisB4\n",
        "\n",
        "\n",
        "entanglment_basis_mapA={1:base_A1, 2:base_A2_B1, 3:base_B2_A3}\n",
        "entanglment_basis_mapB={1:base_A2_B1, 2:base_B2_A3, 3:base_B3}\n",
        "\n",
        "\n",
        "def apply_basis(num_qubits, qc,qrA,qrB,alice_basis,bob_basis):\n",
        "  for i in range(num_qubits):\n",
        "    qc=entanglment_basis_mapA[alice_basis[i]](qc,qrA,i)\n",
        "\n",
        "  for i in range(num_qubits):\n",
        "    qc=entanglment_basis_mapB[bob_basis[i]](qc,qrB,i)\n",
        "\n",
        "  qc.barrier(label=\"Basis\")\n",
        "  return qc\n",
        "\n",
        "def apply_measurement(num_qubits,qc,qrA,qrB,crA,crB):\n",
        "\n",
        "  for i in range(num_qubits):\n",
        "    qc=measure_cir(qc,qrA,crA,i)\n",
        "    qc=measure_cir(qc,qrB,crB,i)\n",
        "\n",
        "  _=qc.barrier(label=\"Measure\")\n",
        "  return qc\n",
        "\n",
        "def get_result(qc):\n",
        "  res=sim_circuits(qc,shots=1)\n",
        "  results=list(res)[0][::-1].split(\" \")\n",
        "  RA=results[0]\n",
        "  RB=results[1]\n",
        "  return RA,RB\n",
        "\n",
        "\n"
      ]
    },
    {
      "cell_type": "code",
      "execution_count": 18,
      "metadata": {
        "id": "Jir9SVtDYqhi"
      },
      "outputs": [],
      "source": [
        "def create_singlet(qr,cr,name='singlet'):\n",
        "    singlet = QuantumCircuit(qr, cr, name=name)\n",
        "    # singlet.x(qr[0])\n",
        "    # singlet.x(qr[1])\n",
        "    singlet.h(qr[0])\n",
        "    singlet.cx(qr[0],qr[1])\n",
        "    singlet.barrier(label=\"singlet_end\")\n",
        "    return singlet\n",
        "\n",
        "def reorder(num_qubits, qc, qrA, qrB, crA, crB):\n",
        "  # Manually reorder qubits for drawing to interleave qrA_i and qrB_i\n",
        "  # Recreate a circuit that interleaves the qubits\n",
        "  ordered_qr = []\n",
        "\n",
        "  # Interleave qubits from qrA and qrB\n",
        "  for i in range(num_qubits):\n",
        "      ordered_qr.append(qrA[i])\n",
        "      ordered_qr.append(qrB[i])\n",
        "\n",
        "  # Create a new QuantumCircuit with reordered qubits\n",
        "  qc_reordered = QuantumCircuit(ordered_qr, crA, crB)\n",
        "\n",
        "  # Transfer operations from the original circuit to the reordered one\n",
        "  for instruction in qc.data:\n",
        "      operation = instruction.operation\n",
        "      qargs = instruction.qubits\n",
        "      cargs = instruction.clbits\n",
        "\n",
        "      # Map the qubits to the new ordering\n",
        "      new_qargs = [ordered_qr[ordered_qr.index(q)] for q in qargs]\n",
        "      qc_reordered.append(operation, new_qargs, cargs)\n",
        "\n",
        "  # Draw the reordered circuit\n",
        "  # qc_reordered.draw(output='mpl', fold=-1)\n",
        "  # qc_reordered.draw(fold=-1)\n",
        "  return qc_reordered\n",
        "\n",
        "def create_singlets(num_qubits):\n",
        "  # Define quantum registers and classical registers\n",
        "  qrA = QuantumRegister(num_qubits, name='qrA')\n",
        "  qrB = QuantumRegister(num_qubits, name='qrB')\n",
        "  crA = ClassicalRegister(num_qubits, name='crA')\n",
        "  crB = ClassicalRegister(num_qubits, name='crB')\n",
        "\n",
        "  # Create a quantum circuit with qrA, qrB, crA, and crB\n",
        "  qc = QuantumCircuit(qrA, qrB, crA, crB)\n",
        "\n",
        "  # Apply X gates to all qubits in qrA\n",
        "\n",
        "  qc.x(qrA)\n",
        "  qc.x(qrB)\n",
        "\n",
        "\n",
        "\n",
        "\n",
        "  # Apply H gates to all qubits in qrA\n",
        "  qc.h(qrA)\n",
        "  # Apply CX (CNOT) gates between corresponding qubits in qrA and qrB\n",
        "  qc.cx(qrA, qrB)\n",
        "  # qc.z(0)\n",
        "  # Add a barrier for clarity (optional)\n",
        "  qc.barrier(label=\"singlets_end\")\n",
        "  return qc, qrA, qrB, crA, crB\n"
      ]
    },
    {
      "cell_type": "code",
      "execution_count": 19,
      "metadata": {
        "id": "mkCUI6tYO5YF"
      },
      "outputs": [],
      "source": [
        "# abPatterns = [\n",
        "#     re.compile('..00$'), # search for the '..00' output (Alice obtained -1 and Bob obtained -1)\n",
        "#     re.compile('..01$'), # search for the '..01' output\n",
        "#     re.compile('..10$'), # search for the '..10' output (Alice obtained -1 and Bob obtained 1)\n",
        "#     re.compile('..11$')  # search for the '..11' output\n",
        "# ]\n",
        "test=[(0,0),(0,1),(1,0),(1,1)]\n",
        "# function that calculates CHSH correlation value\n",
        "def chsh_corr(RA,RB,BA,BB):\n",
        "    aliceMeasurementChoices=BA\n",
        "    bobMeasurementChoices=BB\n",
        "\n",
        "    # lists with the counts of measurement results\n",
        "    # each element represents the number of (-1,-1), (-1,1), (1,-1) and (1,1) results respectively\n",
        "    countA1B1 = [0, 0, 0, 0] # XW observable\n",
        "    countA1B3 = [0, 0, 0, 0] # XV observable\n",
        "    countA3B1 = [0, 0, 0, 0] # ZW observable\n",
        "    countA3B3 = [0, 0, 0, 0] # ZV observable\n",
        "\n",
        "    for i in range(len(RA)):\n",
        "        # print(aliceMeasurementChoices[i],bobMeasurementChoices[i])\n",
        "        valpair=(int(RB[i]),int(RA[i]))\n",
        "\n",
        "        # if the spins of the qubits of the i-th singlet were projected onto the a_1/b_1 directions\n",
        "        if (aliceMeasurementChoices[i] == 1 and bobMeasurementChoices[i] == 1):\n",
        "            for j in range(4):\n",
        "                if test[j]==valpair:\n",
        "                    countA1B1[j] += 1\n",
        "\n",
        "        if (aliceMeasurementChoices[i] == 1 and bobMeasurementChoices[i] == 3):\n",
        "            for j in range(4):\n",
        "                if test[j]==valpair:\n",
        "                    countA1B3[j] += 1\n",
        "\n",
        "        if (aliceMeasurementChoices[i] == 3 and bobMeasurementChoices[i] == 1):\n",
        "            for j in range(4):\n",
        "                if test[j]==valpair:\n",
        "                    countA3B1[j] += 1\n",
        "\n",
        "        # if the spins of the qubits of the i-th singlet were projected onto the a_3/b_3 directions\n",
        "        if (aliceMeasurementChoices[i] == 3 and bobMeasurementChoices[i] == 3):\n",
        "            for j in range(4):\n",
        "                if test[j]==valpair:\n",
        "                    countA3B3[j] += 1\n",
        "\n",
        "    # number of the results obtained from the measurements in a particular basis\n",
        "    total11 = sum(countA1B1)\n",
        "    total13 = sum(countA1B3)\n",
        "    total31 = sum(countA3B1)\n",
        "    total33 = sum(countA3B3)\n",
        "\n",
        "    # expectation values of XW, XV, ZW and ZV observables (2)\n",
        "    expect11 = (countA1B1[0] - countA1B1[1] - countA1B1[2] + countA1B1[3])/total11 # -1/sqrt(2)\n",
        "    expect13 = (countA1B3[0] - countA1B3[1] - countA1B3[2] + countA1B3[3])/total13 # 1/sqrt(2)\n",
        "    expect31 = (countA3B1[0] - countA3B1[1] - countA3B1[2] + countA3B1[3])/total31 # -1/sqrt(2)\n",
        "    expect33 = (countA3B3[0] - countA3B3[1] - countA3B3[2] + countA3B3[3])/total33 # -1/sqrt(2)\n",
        "\n",
        "    # print(expect11, expect13, expect31, expect33)\n",
        "    corr = expect11 - expect13 + expect31 + expect33 # calculate the CHSC correlation value (3)\n",
        "\n",
        "    return corr"
      ]
    },
    {
      "cell_type": "code",
      "execution_count": 20,
      "metadata": {
        "id": "wc7LI_T-m9sz"
      },
      "outputs": [],
      "source": [
        "# # BA,BB range = {1,2,3}\n",
        "# # RA,RB range ={0,1}\n",
        "\n",
        "\n",
        "# def cal_CHSH_noabs(numberOfSinglets,BA,BB,RA,RB):\n",
        "#   # Lists with the counts of measurement results\n",
        "#   # Each element represents the number of (-1,-1), (-1,1), (1,-1), and (1,1) results respectively\n",
        "#   A3B1 = [0, 0, 0, 0]  # XW observable\n",
        "#   A3B4 = [0, 0, 0, 0]  # XV observable\n",
        "#   A2B1 = [0, 0, 0, 0]  # ZW observable\n",
        "#   A2B4 = [0, 0, 0, 0]  # ZV observable\n",
        "\n",
        "\n",
        "#   def cal_prob(i, RA, RB):\n",
        "#     P = 0\n",
        "#     val_pair=(int(RA[i]), int(RB[i]))\n",
        "#     if val_pair == (0, 0):\n",
        "#       P += 1\n",
        "#     elif val_pair == (0, 1):\n",
        "#       P += 2\n",
        "#     elif val_pair == (1, 0):\n",
        "#       P += 3\n",
        "#     elif val_pair == (1, 1):\n",
        "#       P += 4\n",
        "#     return P\n",
        "\n",
        "#   count = []\n",
        "#   for i in range(numberOfSinglets):\n",
        "#       # If the spins of the qubits of the i-th singlet were projected onto the a[1]/b[1] directions\n",
        "#       if (BA[i] == 1 and BB[i] == 2):\n",
        "#           for j in range(4):\n",
        "#               if cal_prob(i, RA, RB) == j + 1:\n",
        "#                   A3B1[j] += 1\n",
        "\n",
        "#       if (BA[i] == 1 and BB[i] == 3):\n",
        "#           for j in range(4):\n",
        "#               if cal_prob(i, RA, RB) == j + 1:\n",
        "#                   A3B4[j] += 1\n",
        "\n",
        "#       if (BA[i] == 0 and BB[i] == 2):\n",
        "#           for j in range(4):\n",
        "#               if cal_prob(i, RA, RB) == j + 1:\n",
        "#                   A2B1[j] += 1\n",
        "\n",
        "#       # If the spins of the qubits of the i-th singlet were projected onto the a[3]/b[3] directions\n",
        "#       if (BA[i] == 0 and BB[i] == 3):\n",
        "#           for j in range(4):\n",
        "#               if cal_prob(i, RA, RB) == j + 1:\n",
        "#                   A2B4[j] += 1\n",
        "\n",
        "#   # Number of the results obtained from the measurements in a particular basis\n",
        "#   total11 = sum([A3B1[0], A3B1[1], A3B1[2], A3B1[3]])\n",
        "#   total13 = sum([A3B4[0], A3B4[1], A3B4[2], A3B4[3]])\n",
        "#   total31 = sum([A2B1[0], A2B1[1], A2B1[2], A2B1[3]])\n",
        "#   total33 = sum([A2B4[0], A2B4[1], A2B4[2], A2B4[3]])\n",
        "\n",
        "#   # Expectation values of XW, XV, ZW, and ZV observables\n",
        "#   expect31 = (A3B1[0] - A3B1[1] - A3B1[2] + A3B1[3]) / total11  # -1/sqrt(2)\n",
        "#   expect34 = (A3B4[0] - A3B4[1] - A3B4[2] + A3B4[3]) / total13  # 1/sqrt(2)\n",
        "#   expect21 = (A2B1[0] - A2B1[1] - A2B1[2] + A2B1[3]) / total31  # -1/sqrt(2)\n",
        "#   expect24 = (A2B4[0] - A2B4[1] - A2B4[2] + A2B4[3]) / total33  # -1/sqrt(2)\n",
        "\n",
        "#   # Calculate the CHSH correlation value\n",
        "#   # corr = expect31 - expect34 + expect21 + expect24\n",
        "#   corr = expect31 - expect34 + expect21 + expect24\n",
        "\n",
        "#   # print(A3B1[0], A3B1[1], A3B1[2], A3B1[3],total11)\n",
        "#   # print(A3B4[0], A3B4[1], A3B4[2], A3B4[3],total13)\n",
        "#   # print(A2B1[0], A2B1[1], A2B1[2], A2B1[3],total31)\n",
        "#   # print(A2B4[0], A2B4[1], A2B4[2], A2B4[3],total33)\n",
        "\n",
        "#   # print(expect21, expect34, expect21, expect24, total11+total13+total31+total33)\n",
        "\n",
        "#   # print(corr)\n",
        "#   return corr"
      ]
    },
    {
      "cell_type": "code",
      "execution_count": 21,
      "metadata": {
        "id": "sbu6Sw8abMV5"
      },
      "outputs": [],
      "source": [
        "# def cal_CHSH_abs(numberOfSinglets, BA,BB,RA,RB):\n",
        "#   # Lists with the counts of measurement results\n",
        "#   # Each element represents the number of (-1,-1), (-1,1), (1,-1), and (1,1) results respectively\n",
        "#   A3B1 = [0, 0, 0, 0]  # XW observable\n",
        "#   A3B4 = [0, 0, 0, 0]  # XV observable\n",
        "#   A2B1 = [0, 0, 0, 0]  # ZW observable\n",
        "#   A2B4 = [0, 0, 0, 0]  # ZV observable\n",
        "\n",
        "\n",
        "#   def cal_prob(i, RA, RB):\n",
        "#     P = 0\n",
        "#     val_pair=(int(RA[i]), int(RB[i]))\n",
        "#     if val_pair == (0, 0):\n",
        "#       P += 1\n",
        "#     elif val_pair == (0, 1):\n",
        "#       P += 2\n",
        "#     elif val_pair == (1, 0):\n",
        "#       P += 3\n",
        "#     elif val_pair == (1, 1):\n",
        "#       P += 4\n",
        "#     return P\n",
        "\n",
        "#   count = []\n",
        "#   for i in range(numberOfSinglets):\n",
        "#       # If the spins of the qubits of the i-th singlet were projected onto the a[1]/b[1] directions\n",
        "#       if (BA[i] == 1 and BB[i] == 2):\n",
        "#           for j in range(4):\n",
        "#               if cal_prob(i, RA, RB) == j + 1:\n",
        "#                   A3B1[j] += 1\n",
        "\n",
        "#       if (BA[i] == 1 and BB[i] == 3):\n",
        "#           for j in range(4):\n",
        "#               if cal_prob(i, RA, RB) == j + 1:\n",
        "#                   A3B4[j] += 1\n",
        "\n",
        "#       if (BA[i] == 0 and BB[i] == 2):\n",
        "#           for j in range(4):\n",
        "#               if cal_prob(i, RA, RB) == j + 1:\n",
        "#                   A2B1[j] += 1\n",
        "\n",
        "#       # If the spins of the qubits of the i-th singlet were projected onto the a[3]/b[3] directions\n",
        "#       if (BA[i] == 0 and BB[i] == 3):\n",
        "#           for j in range(4):\n",
        "#               if cal_prob(i, RA, RB) == j + 1:\n",
        "#                   A2B4[j] += 1\n",
        "\n",
        "#   # Number of the results obtained from the measurements in a particular basis\n",
        "#   total11 = sum([A3B1[0], A3B1[1], A3B1[2], A3B1[3]])\n",
        "#   total13 = sum([A3B4[0], A3B4[1], A3B4[2], A3B4[3]])\n",
        "#   total31 = sum([A2B1[0], A2B1[1], A2B1[2], A2B1[3]])\n",
        "#   total33 = sum([A2B4[0], A2B4[1], A2B4[2], A2B4[3]])\n",
        "\n",
        "#   # Expectation values of XW, XV, ZW, and ZV observables\n",
        "#   expect31 = (A3B1[0] - A3B1[1] - A3B1[2] + A3B1[3]) / total11  # -1/sqrt(2)\n",
        "#   expect34 = (A3B4[0] - A3B4[1] - A3B4[2] + A3B4[3]) / total13  # 1/sqrt(2)\n",
        "#   expect21 = (A2B1[0] - A2B1[1] - A2B1[2] + A2B1[3]) / total31  # -1/sqrt(2)\n",
        "#   expect24 = (A2B4[0] - A2B4[1] - A2B4[2] + A2B4[3]) / total33  # -1/sqrt(2)\n",
        "\n",
        "#   # Calculate the CHSH correlation value\n",
        "#   # corr = expect31 - expect34 + expect21 + expect24\n",
        "#   corr = abs(expect31) + abs(expect34) + abs(expect21) + abs(expect24)\n",
        "\n",
        "#   # print(A3B1[0], A3B1[1], A3B1[2], A3B1[3],total11)\n",
        "#   # print(A3B4[0], A3B4[1], A3B4[2], A3B4[3],total13)\n",
        "#   # print(A2B1[0], A2B1[1], A2B1[2], A2B1[3],total31)\n",
        "#   # print(A2B4[0], A2B4[1], A2B4[2], A2B4[3],total33)\n",
        "\n",
        "#   # print(expect21, expect34, expect21, expect24, total11+total13+total31+total33)\n",
        "\n",
        "#   # print(corr)\n",
        "#   return corr\n"
      ]
    },
    {
      "cell_type": "code",
      "execution_count": 22,
      "metadata": {
        "id": "QrApYleBPybH"
      },
      "outputs": [],
      "source": [
        "# import numpy as np\n",
        "\n",
        "# # Calculate the correlation between Alice and Bob's results for given basis\n",
        "# def correlation(BA, RA, BB, RB, a_basis, b_basis):\n",
        "#     # BA: Alice's measurement basis choices (0, 1, 2)\n",
        "#     # RA: Alice's measurement results (1 for +1, 0 for -1)\n",
        "#     # BB: Bob's measurement basis choices (1, 2, 3)\n",
        "#     # RB: Bob's measurement results (1 for +1, 0 for -1)\n",
        "#     # a_basis: specific basis of Alice to consider\n",
        "#     # b_basis: specific basis of Bob to consider\n",
        "\n",
        "#     # Initializing counts for correlation calculation\n",
        "#     N_pp = N_mm = N_pm = N_mp = 0  # ++ (1,1), -- (0,0), +- (1,0), -+ (0,1)\n",
        "\n",
        "#     # Loop through each measurement result and filter by selected bases\n",
        "#     for a, rA, b, rB in zip(BA, RA, BB, RB):\n",
        "#         if a == a_basis and b == b_basis:  # Filter by the selected basis pair\n",
        "#             if rA == 1 and rB == 1:\n",
        "#                 N_pp += 1\n",
        "#             elif rA == 0 and rB == 0:\n",
        "#                 N_mm += 1\n",
        "#             elif rA == 1 and rB == 0:\n",
        "#                 N_pm += 1\n",
        "#             elif rA == 0 and rB == 1:\n",
        "#                 N_mp += 1\n",
        "\n",
        "#     # Total measurements for this pair of bases\n",
        "#     N_total = N_pp + N_mm + N_pm + N_mp\n",
        "\n",
        "#     # If there are no measurements, return 0 correlation\n",
        "#     if N_total == 0:\n",
        "#         return 0\n",
        "\n",
        "#     # Calculate the correlation value E(a, b)\n",
        "#     E_ab = (N_pp + N_mm - N_pm - N_mp) / N_total\n",
        "#     return E_ab\n",
        "\n",
        "# # Function to calculate the CHSH value based on specific basis pairings\n",
        "# def calculate_CHSH_v2(BA, RA, BB, RB):\n",
        "#     # BA: Alice's basis choices (0, 1, 2 corresponding to a_0, a_1, a_2)\n",
        "#     # RA: Alice's measurement results (1 for +1, 0 for -1)\n",
        "#     # BB: Bob's basis choices (1, 2, 3 corresponding to b_1, b_2, b_3)\n",
        "#     # RB: Bob's measurement results (1 for +1, 0 for -1)\n",
        "\n",
        "#     # Calculate the correlations for the chosen basis pairings\n",
        "#     E_a0_b1 = correlation(BA, RA, BB, RB, 0, 1)  # E(a_0, b_1)\n",
        "#     E_a0_b2 = correlation(BA, RA, BB, RB, 0, 2)  # E(a_0, b_2)\n",
        "#     E_a1_b1 = correlation(BA, RA, BB, RB, 1, 1)  # E(a_1, b_1)\n",
        "#     E_a1_b2 = correlation(BA, RA, BB, RB, 1, 2)  # E(a_1, b_2)\n",
        "\n",
        "#     # Calculate the CHSH value (S) based on the correlations\n",
        "#     S = E_a0_b1 - E_a0_b2 + E_a1_b1 + E_a1_b2\n",
        "\n",
        "#     return S"
      ]
    },
    {
      "cell_type": "code",
      "execution_count": 22,
      "metadata": {
        "id": "9ve6O4dbyLJz"
      },
      "outputs": [],
      "source": []
    },
    {
      "cell_type": "markdown",
      "metadata": {
        "id": "liKgHUXmfvtQ"
      },
      "source": [
        "# **Visualization**"
      ]
    },
    {
      "cell_type": "code",
      "execution_count": 23,
      "metadata": {
        "id": "BebMGoaapPnk"
      },
      "outputs": [],
      "source": [
        "import matplotlib.pyplot as plt\n",
        "\n",
        "def plot_distribution(data_dict):\n",
        "    \"\"\"\n",
        "    Plots the distribution of a dictionary where keys represent values and\n",
        "    values represent counts.\n",
        "\n",
        "    Args:\n",
        "    data_dict (dict): A dictionary with the format {value: count}\n",
        "    \"\"\"\n",
        "\n",
        "    # Extract the keys (values) and corresponding counts\n",
        "    values = data_dict.keys()\n",
        "    counts = list(data_dict.values())\n",
        "\n",
        "    # Create a bar plot\n",
        "    plt.figure(figsize=(10,6))\n",
        "    plt.bar(values, counts, color='skyblue')\n",
        "\n",
        "    # Labeling the plot\n",
        "    plt.xlabel('Values', fontsize=14)\n",
        "    plt.ylabel('Counts', fontsize=14)\n",
        "    plt.title('Distribution of Values', fontsize=16)\n",
        "\n",
        "    # Show the plot\n",
        "    plt.show()"
      ]
    },
    {
      "cell_type": "code",
      "execution_count": 24,
      "metadata": {
        "id": "0_Dg3w6Bq5Et"
      },
      "outputs": [],
      "source": [
        "import matplotlib.pyplot as plt\n",
        "import numpy as np\n",
        "\n",
        "def plot_two_distributions(data_dict1, data_dict2, label1='Distribution 1', label2='Distribution 2'):\n",
        "    \"\"\"\n",
        "    Plots the distribution of two dictionaries where keys represent values and\n",
        "    values represent counts. Overlaps between the distributions are highlighted\n",
        "    with a different color.\n",
        "\n",
        "    Args:\n",
        "    data_dict1 (dict): First dictionary with the format {value: count}\n",
        "    data_dict2 (dict): Second dictionary with the format {value: count}\n",
        "    label1 (str): Label for the first distribution (used in the legend).\n",
        "    label2 (str): Label for the second distribution (used in the legend).\n",
        "    \"\"\"\n",
        "\n",
        "    # Get the union of keys from both dictionaries\n",
        "    all_values = sorted(set(data_dict1.keys()).union(set(data_dict2.keys())))\n",
        "\n",
        "    # Get the counts from each dictionary, filling in 0 for missing values\n",
        "    counts1 = [data_dict1.get(value, 0) for value in all_values]\n",
        "    counts2 = [data_dict2.get(value, 0) for value in all_values]\n",
        "\n",
        "    # Set the bar width for side-by-side plotting\n",
        "    bar_width = 0.35\n",
        "\n",
        "    # Positions for the bars\n",
        "    indices1 = np.arange(len(all_values))\n",
        "    indices2 = [i + bar_width for i in indices1]\n",
        "\n",
        "    # Highlight overlapping values by determining if both counts are non-zero\n",
        "    overlap_indices = [i for i, (c1, c2) in enumerate(zip(counts1, counts2)) if c1 > 0 and c2 > 0]\n",
        "\n",
        "    # Create the bar plot for both distributions\n",
        "    plt.figure(figsize=(20,6))\n",
        "\n",
        "    # Plot distribution 1\n",
        "    plt.bar(indices1, counts1, color='skyblue', width=bar_width, label=label1, alpha=0.7)\n",
        "\n",
        "    # Plot distribution 2\n",
        "    plt.bar(indices2, counts2, color='pink', width=bar_width, label=label2, alpha=0.7)\n",
        "\n",
        "    # Highlight the overlap\n",
        "    # for i in overlap_indices:\n",
        "    #     plt.bar(indices1[i], counts1[i], color='blue', width=bar_width, alpha=0.9)\n",
        "    #     plt.bar(indices2[i], counts2[i], color='red', width=bar_width, alpha=0.9)\n",
        "\n",
        "    # Setting labels, title, and legend\n",
        "    plt.xlabel('Values', fontsize=14)\n",
        "    plt.ylabel('Counts', fontsize=14)\n",
        "    plt.title('Comparison of Two Distributions with Highlighted Overlap', fontsize=16)\n",
        "\n",
        "    # Align x-ticks to the center of the bars\n",
        "    plt.xticks([i + bar_width/2 for i in indices1], all_values)\n",
        "\n",
        "    # Add a legend\n",
        "    plt.legend()\n",
        "\n",
        "    # Show the plot\n",
        "    plt.show()\n",
        "\n",
        "# # Example usage\n",
        "# data1 = {1: 10, 2: 20, 3: 15}\n",
        "# data2 = {2: 18, 3: 14, 4: 6, 5: 10}\n",
        "# plot_two_distributions(data1, data2, label1='Group A', label2='Group B')"
      ]
    },
    {
      "cell_type": "markdown",
      "metadata": {
        "id": "uZVa-4Zf8d7x"
      },
      "source": [
        "# **Exp Functions**"
      ]
    },
    {
      "cell_type": "code",
      "execution_count": 25,
      "metadata": {
        "id": "NSljOR0ogLtD"
      },
      "outputs": [],
      "source": [
        "def average_dict_counts(*dicts):\n",
        "    from collections import defaultdict\n",
        "\n",
        "    # Dictionary to store total counts and number of occurrences\n",
        "    combined = defaultdict(lambda: [0, 0])  # [sum, count]\n",
        "\n",
        "    # Iterate over each dictionary\n",
        "    for d in dicts:\n",
        "        for val, count in d.items():\n",
        "            combined[val][0] += count  # Sum of counts\n",
        "            combined[val][1] += 1      # Increment occurrence count\n",
        "\n",
        "    # Calculate average and store in a new dictionary\n",
        "    averaged_dict = {val: total / num for val, (total, num) in combined.items()}\n",
        "\n",
        "    return averaged_dict\n"
      ]
    },
    {
      "cell_type": "code",
      "execution_count": 26,
      "metadata": {
        "id": "AoDeF59m8m6P"
      },
      "outputs": [],
      "source": [
        "def create_dist_ent(res,BA,BB,chsh_acc=1,prob_acc=3):\n",
        "  CHSH_dist={}\n",
        "  re_dist={}\n",
        "  for k,v in res.items():\n",
        "    results=k[::-1].split(\" \")\n",
        "    RAi=results[0]\n",
        "    RBi=results[1]\n",
        "    # print(RAi,RBi)\n",
        "    CHSH_i=round(chsh_corr(RAi,RBi,BA,BB),chsh_acc)\n",
        "    re_i=relative_error_cal(CHSH_i,-2*math.sqrt(2))\n",
        "    if(CHSH_i not in CHSH_dist):\n",
        "      CHSH_dist[CHSH_i]=v\n",
        "      re_dist[re_i]=v\n",
        "    else:\n",
        "      CHSH_dist[CHSH_i]=round(CHSH_dist[CHSH_i]+v,prob_acc)\n",
        "      re_dist[re_i]=round(re_dist[re_i]+v,prob_acc)\n",
        "  return CHSH_dist,re_dist\n",
        "  # print(CHSH_i,v)\n",
        "\n",
        "def create_dist_pm(res,BA,BB,RA,chsh_acc=1,prob_acc=3):\n",
        "  CHSH2_dist={}\n",
        "  re2_dist={}\n",
        "  for k,v in res.items():\n",
        "    CHSH_i=round(chsh_corr(RA,k[::-1],BA,BB),chsh_acc)\n",
        "    re_i=relative_error_cal(CHSH_i,-2*math.sqrt(2))\n",
        "    if(CHSH_i not in CHSH2_dist):\n",
        "      CHSH2_dist[CHSH_i]=v\n",
        "      re2_dist[re_i]=v\n",
        "    else:\n",
        "      CHSH2_dist[CHSH_i]=round(CHSH2_dist[CHSH_i]+v,prob_acc)\n",
        "      re2_dist[re_i]=round(re2_dist[re_i]+v,prob_acc)\n",
        "  return CHSH2_dist,re2_dist\n",
        "  # print(CHSH_i,v)\n"
      ]
    },
    {
      "cell_type": "code",
      "execution_count": 27,
      "metadata": {
        "id": "7xZiLvGh8h9j"
      },
      "outputs": [],
      "source": [
        "\n",
        "\n",
        "def run_attack_mr_exp(num_qubits,BA,BB,BE,shots=1):\n",
        "  qc, qrA, qrB, crA, crB=create_singlets(num_qubits)\n",
        "  qc=apply_basis(num_qubits,qc,qrB,BA,BE)\n",
        "  qc=apply_measurement(num_qubits,qc,qrA,qrB,crA,crB)\n",
        "  RA,RE=get_result(qc)\n",
        "\n",
        "  qc2, qrA2, qrB2, crA2, crB2=create_singlets(num_qubits)\n",
        "  qc2=apply_basis(num_qubits,qc2,qrA,qrB,BE,BB)\n",
        "  qc2=apply_measurement(num_qubits,qc2,qrA2,qrB2,crA2,crB2)\n",
        "\n",
        "  user=\"Bob\"\n",
        "  for i in range(num_qubits):\n",
        "    quantumChannel=entanglment_basis_mapB[BB[i]](qc2,qrB2,i)\n",
        "\n",
        "\n",
        "  for i in range(num_qubits):\n",
        "      quantumChannel=measure_cir(quantumChannel,qrB2,crB2,i)\n",
        "\n",
        "\n",
        "  res2=sim_circuits(quantumChannel,shots=shots)\n",
        "  return RA,res2"
      ]
    },
    {
      "cell_type": "code",
      "source": [
        "def apply_basis_Eve(num_qubits, qc,qrA,qrB,user_basis):\n",
        "  for i in range(num_qubits):\n",
        "    qc=entanglment_basis_mapA[user_basis[i]](qc,qrA,i)\n",
        "\n",
        "  for i in range(num_qubits):\n",
        "    qc=entanglment_basis_mapA[user_basis[i]](qc,qrB,i)\n",
        "\n",
        "  qc.barrier(label=\"Basis\")\n",
        "  return qc\n"
      ],
      "metadata": {
        "id": "IM6eyJo9z1x5"
      },
      "execution_count": 28,
      "outputs": []
    },
    {
      "cell_type": "code",
      "execution_count": 29,
      "metadata": {
        "id": "hfpCaPNl7niR"
      },
      "outputs": [],
      "source": [
        "def run_exp(num_qubits,BA,BB,shots=1,noise=False,L=None):\n",
        "  qc, qrA, qrB, crA, crB=create_singlets(num_qubits)\n",
        "  qc=apply_basis(num_qubits,qc,qrA,qrB,BA,BB)\n",
        "  qc=apply_measurement(num_qubits,qc,qrA,qrB,crA,crB)\n",
        "\n",
        "\n",
        "\n",
        "  res=sim_circuits(qc,shots=shots,noise=noise,L=L)\n",
        "  return qc, res\n",
        "  # print(res)\n",
        "\n",
        "  # RA,RB=get_result(qc)\n",
        "  # CHSH=chsh_corr(RA,RB,BA,BB)\n",
        "  # error=relative_error_cal(CHSH, -2*math.sqrt(2))\n",
        "  # # errortotal+=error\n",
        "  # print(\"normal\",CHSH,error)\n",
        "\n",
        "\n",
        "def eve_encode(num_qubits,BA,RE):\n",
        "  alice_raw_key=RE\n",
        "  alice_basis=BA\n",
        "\n",
        "  user=\"Alice\"\n",
        "  # Creating registers with n qubits\n",
        "  qr2 = QuantumRegister(num_qubits, name='qr2')\n",
        "  crB2 = ClassicalRegister(num_qubits, name='crB2')\n",
        "  quantumChannel = QuantumCircuit(qr2, crB2)\n",
        "\n",
        "  for i in range(num_qubits):\n",
        "    if alice_raw_key[i] == 1 or alice_raw_key[i] == '1':\n",
        "        quantumChannel.x(qr2[i])\n",
        "\n",
        "  for i in range(num_qubits):\n",
        "    quantumChannel=entanglment_basis_mapA[alice_basis[i]](quantumChannel,qr2,i)\n",
        "\n",
        "  quantumChannel.barrier(qr2,label=\"AliceSending\")\n",
        "  return qr2,crB2,quantumChannel\n",
        "\n",
        "\n",
        "def run_attackexp(num_qubits,BA,BB,shots=1,noise=False,L=None):\n",
        "  qc, qrA, qrB, crA, crB=create_singlets(num_qubits)\n",
        "  qc=apply_basis_Eve(num_qubits,qc,qrA,qrB,BA)\n",
        "  qc=apply_measurement(num_qubits,qc,qrA,qrB,crA,crB)\n",
        "  RA,RE=get_result(qc)\n",
        "\n",
        "  qr2,crB2,quantumChannel=eve_encode(num_qubits,BA,RE)\n",
        "\n",
        "  user=\"Bob\"\n",
        "  for i in range(num_qubits):\n",
        "    quantumChannel=entanglment_basis_mapB[BB[i]](quantumChannel,qr2,i)\n",
        "\n",
        "\n",
        "  for i in range(num_qubits):\n",
        "      quantumChannel=measure_cir(quantumChannel,qr2,crB2,i)\n",
        "\n",
        "\n",
        "  res2=sim_circuits(quantumChannel,shots=shots,noise=noise,L=L)\n",
        "  return RA,res2"
      ]
    },
    {
      "cell_type": "code",
      "execution_count": 30,
      "metadata": {
        "id": "tgzbtksupoTm"
      },
      "outputs": [],
      "source": [
        "def average_and_normalize_probabilities(*dicts):\n",
        "    from collections import defaultdict\n",
        "\n",
        "    # Dictionary to store the sum of probabilities and their occurrences\n",
        "    combined = defaultdict(lambda: [0, 0])  # [sum of probabilities, count]\n",
        "\n",
        "    # Iterate over each dictionary\n",
        "    for d in dicts:\n",
        "        for val, prob in d.items():\n",
        "            combined[val][0] += prob  # Sum of probabilities\n",
        "            combined[val][1] += 1     # Count occurrences\n",
        "\n",
        "    # Average the probabilities for each value\n",
        "    averaged_dict = {val: total / num for val, (total, num) in combined.items()}\n",
        "\n",
        "    # Normalize the averaged probabilities to ensure their sum is 1\n",
        "    total_sum = sum(averaged_dict.values())\n",
        "    normalized_dict = {val: prob / total_sum for val, prob in averaged_dict.items()}\n",
        "    normalized_dict = {val: round(prob,3)  for val, prob in normalized_dict.items()}\n",
        "\n",
        "    return normalized_dict"
      ]
    },
    {
      "cell_type": "code",
      "execution_count": 31,
      "metadata": {
        "id": "6y9DdC4E8FN5"
      },
      "outputs": [],
      "source": [
        "def bitwise_probability_distribution(res):\n",
        "    from collections import defaultdict\n",
        "\n",
        "    # Initialize a dictionary where each position will hold counts for '0' and '1'\n",
        "    bitwise_distribution = defaultdict(lambda: {'0': 0, '1': 0})\n",
        "\n",
        "    # Iterate over each bit string and its associated probability\n",
        "    for bit_string, probability in res.items():\n",
        "        for i, bit in enumerate(bit_string):  # Loop through each bit in the string\n",
        "            bitwise_distribution[i][bit] = round(bitwise_distribution[i][bit]+probability,3)  # Add the probability to the corresponding bit ('0' or '1')\n",
        "\n",
        "    # Convert defaultdict to normal dict before returning\n",
        "    return dict(bitwise_distribution)\n"
      ]
    },
    {
      "cell_type": "markdown",
      "metadata": {
        "id": "FK26PuVzbPrq"
      },
      "source": [
        "# **Encoding_Ent_Attack**"
      ]
    },
    {
      "cell_type": "code",
      "source": [
        "# def apply_basis_Eve(num_qubits, qc,qrA,qrB,user_basis):\n",
        "#   for i in range(num_qubits):\n",
        "#     qc=entanglment_basis_mapA[user_basis[i]](qc,qrA,i)\n",
        "\n",
        "#   for i in range(num_qubits):\n",
        "#     qc=entanglment_basis_mapA[user_basis[i]](qc,qrB,i)\n",
        "\n",
        "#   qc.barrier(label=\"Basis\")\n",
        "#   return qc\n"
      ],
      "metadata": {
        "id": "e1y8JBIGz3kQ"
      },
      "execution_count": 32,
      "outputs": []
    },
    {
      "cell_type": "code",
      "source": [
        "def run_attackexp_2(num_qubits,BA,BB,shots=1,noise=False,L=None):\n",
        "  qc, qrA, qrB, crA, crB=create_singlets(num_qubits)\n",
        "  qc=apply_basis_Eve(num_qubits,qc,qrA,qrB,BA)\n",
        "  qc=apply_measurement(num_qubits,qc,qrA,qrB,crA,crB)\n",
        "  RA,RE=get_result(qc)\n",
        "\n",
        "  qr2,crB2,quantumChannel=eve_encode(num_qubits,BA,RE)\n",
        "\n",
        "  user=\"Bob\"\n",
        "  for i in range(num_qubits):\n",
        "    quantumChannel=entanglment_basis_mapB[BB[i]](quantumChannel,qr2,i)\n",
        "\n",
        "\n",
        "  for i in range(num_qubits):\n",
        "      quantumChannel=measure_cir(quantumChannel,qr2,crB2,i)\n",
        "\n",
        "\n",
        "  res2=sim_circuits(quantumChannel,shots=shots,noise=noise,L=L)\n",
        "  return RA,res2,quantumChannel"
      ],
      "metadata": {
        "id": "A-k6T7fKzhw4"
      },
      "execution_count": 33,
      "outputs": []
    },
    {
      "cell_type": "code",
      "execution_count": 45,
      "metadata": {
        "id": "MlU2hwNZh8aM"
      },
      "outputs": [],
      "source": [
        "shots=100\n",
        "num_qubits=1000\n",
        "\n",
        "dist_NoEve_all=[]\n",
        "dist_Eve_all=[]\n",
        "\n",
        "redist_NoEve_all=[]\n",
        "redist_Eve_all=[]\n",
        "\n",
        "for i in range(1):\n",
        "  BA = aliceMeasurementChoices(num_qubits)\n",
        "  BB   = bobMeasurementChoices(num_qubits)\n",
        "\n",
        "  qc, res=run_exp(num_qubits,BA,BB,shots=shots,noise=False,L=None)\n",
        "  RA,res2,quantumChannel=run_attackexp_2(num_qubits,BA,BB,shots=shots,noise=False,L=None)\n",
        "\n",
        "  CHSHdist_NoEve,redist_NoEve=create_dist_ent(res,BA,BB)\n",
        "  CHSHdist_Eve,redist_Eve=create_dist_pm(res2,BA,BB,RA)\n",
        "\n",
        "  dist_NoEve_all.append(CHSHdist_NoEve)\n",
        "  dist_Eve_all.append(CHSHdist_Eve)\n",
        "\n",
        "  redist_NoEve_all.append(redist_NoEve)\n",
        "  redist_Eve_all.append(redist_Eve)"
      ]
    },
    {
      "cell_type": "code",
      "execution_count": 46,
      "metadata": {
        "id": "ivZjPStEppd7"
      },
      "outputs": [],
      "source": [
        "dist_NoEve_final=average_and_normalize_probabilities(*dist_NoEve_all)\n",
        "dist_Eve_final=average_and_normalize_probabilities(*dist_Eve_all)\n",
        "\n",
        "redist_NoEve_final=average_and_normalize_probabilities(*redist_NoEve_all)\n",
        "redist_Eve_final=average_and_normalize_probabilities(*redist_Eve_all)"
      ]
    },
    {
      "cell_type": "code",
      "execution_count": 47,
      "metadata": {
        "id": "7MirEJLy_lEb",
        "colab": {
          "base_uri": "https://localhost:8080/"
        },
        "outputId": "50836bc2-5062-4f99-82d8-719cbe06790d"
      },
      "outputs": [
        {
          "output_type": "stream",
          "name": "stdout",
          "text": [
            "{-2.8: 0.31, -2.7: 0.13, -2.9: 0.2, -3.0: 0.2, -2.5: 0.03, -3.1: 0.05, -2.6: 0.07, -3.2: 0.01}\n",
            "{-2.7: 0.15, -2.9: 0.31, -2.5: 0.06, -3.0: 0.16, -2.8: 0.23, -2.6: 0.06, -3.1: 0.03}\n"
          ]
        }
      ],
      "source": [
        "print(dist_NoEve_final)\n",
        "print(dist_Eve_final)"
      ]
    },
    {
      "cell_type": "code",
      "source": [
        "import matplotlib.pyplot as plt\n",
        "import numpy as np\n",
        "import matplotlib.patches as mpatches\n",
        "\n",
        "def plot_qber_distributions_with_patterns(data_dict1, data_dict2, label1='Distribution 1', label2='Distribution 2', output_file='output.pdf'):\n",
        "    \"\"\"\n",
        "    Plots two distributions of QBER values with probability as percentage,\n",
        "    highlighting overlaps with specific hatch patterns for easy distinction,\n",
        "    and saves the figure to a PDF.\n",
        "\n",
        "    Args:\n",
        "    data_dict1 (dict): First dictionary with the format {QBER: probability}\n",
        "    data_dict2 (dict): Second dictionary with the format {QBER: probability}\n",
        "    label1 (str): Label for the first distribution (used in the legend).\n",
        "    label2 (str): Label for the second distribution (used in the legend).\n",
        "    output_file (str): File name to save the plot as a PDF.\n",
        "    \"\"\"\n",
        "\n",
        "    all_values = sorted(set(data_dict1.keys()).union(set(data_dict2.keys())))\n",
        "\n",
        "    probs1 = [data_dict1.get(value, 0) * 100 for value in all_values]\n",
        "    probs2 = [data_dict2.get(value, 0) * 100 for value in all_values]\n",
        "\n",
        "    # Set bar width and x-axis positions\n",
        "    bar_width = 0.4\n",
        "    indices = np.arange(len(all_values))\n",
        "\n",
        "    # Create the bar plot\n",
        "    plt.figure(figsize=(12, 6))\n",
        "\n",
        "\n",
        "    plt.bar(indices - bar_width / 2, probs1, bar_width, color='white', edgecolor='blue', hatch='//', label=label1, alpha=0.7)\n",
        "    plt.bar(indices + bar_width / 2, probs2, bar_width, color='orange', edgecolor='black', hatch='.', label=label2, alpha=0.7)\n",
        "\n",
        "    # Set labels, title, and legend\n",
        "    plt.xlabel('CHSH value', fontsize=14)\n",
        "    plt.ylabel('Probability (%)', fontsize=14)\n",
        "    plt.title('Distributions for CHSH value for Normal vs Attack', fontsize=16)\n",
        "    plt.xticks(indices, [f\"{value:.3f}\" for value in all_values], fontsize=12)  # Format QBER values with three decimals\n",
        "    plt.yticks(fontsize=12)\n",
        "\n",
        "    # Custom legend with specific patterns\n",
        "    legend_patches = [\n",
        "        mpatches.Patch(facecolor='white', edgecolor='blue', hatch='//', label=label1),\n",
        "        mpatches.Patch(facecolor='orange', edgecolor='black', hatch='.', label=label2),\n",
        "    ]\n",
        "    plt.legend(handles=legend_patches, fontsize=12)\n",
        "\n",
        "    # Save the plot to a PDF\n",
        "    plt.tight_layout()\n",
        "    plt.savefig(output_file, format='pdf')\n",
        "    plt.close()"
      ],
      "metadata": {
        "id": "m3yE9jleaF0A"
      },
      "execution_count": 55,
      "outputs": []
    },
    {
      "cell_type": "code",
      "execution_count": 56,
      "metadata": {
        "id": "HgZIg3pp_8yX"
      },
      "outputs": [],
      "source": [
        "# Plotting the distributions\n",
        "plot_qber_distributions_with_patterns(dist_Eve_final, dist_NoEve_final, label1='Distribution for Encoding over Entanglement Attack', label2='Distribution for typical working of protocols without Eve')"
      ]
    },
    {
      "cell_type": "code",
      "execution_count": 44,
      "metadata": {
        "id": "8gZFNBHYgd86"
      },
      "outputs": [],
      "source": []
    },
    {
      "cell_type": "markdown",
      "metadata": {
        "id": "pwYV3dimnivK"
      },
      "source": [
        "# **Failed_Simualtion_for Misc trace**"
      ]
    },
    {
      "cell_type": "code",
      "source": [
        "def SendQ_eve(num_qubits,eve_raw_key,eve_basis,user=\"Eve\"):\n",
        "  # Creating registers with n qubits\n",
        "  qr = QuantumRegister(num_qubits, name='qr')\n",
        "  crB = ClassicalRegister(num_qubits, name='crB')\n",
        "  quantumChannel = QuantumCircuit(qr, crB)\n",
        "\n",
        "  for i in range(num_qubits):\n",
        "    if eve_raw_key[i] == '1':\n",
        "        quantumChannel.x(qr[i])\n",
        "\n",
        "    if eve_basis[i] == '1':\n",
        "        quantumChannel.h(qr[i])\n",
        "    elif(eve_basis[i] == 'x'):\n",
        "      quantumChannel.h(qr[i])\n",
        "      quantumChannel.t(qr[i])\n",
        "      quantumChannel.h(qr[i])\n",
        "      quantumChannel.s(qr[i])\n",
        "\n",
        "  quantumChannel.barrier(qr,label=\"EveSending\")\n",
        "  return qr,crB,quantumChannel"
      ],
      "metadata": {
        "id": "fu6I5y_3_9bR"
      },
      "execution_count": null,
      "outputs": []
    },
    {
      "cell_type": "code",
      "execution_count": null,
      "metadata": {
        "id": "uessmzytqnpo"
      },
      "outputs": [],
      "source": [
        "karaw"
      ]
    },
    {
      "cell_type": "code",
      "source": [
        "num_qubits = 1000\n",
        "for _ in range(100):\n",
        "  karaw, SA_0,SB_0,BA_0,BB_0=QKD_Session(num_qubits,shots=1)\n",
        "\n",
        "  eve_raw_key=[0] * num_qubits\n",
        "  BA=bitarray2str(BA_0)\n",
        "  BE=\"\"\n",
        "\n",
        "  for i,ind in enumerate(SA_0[1]):\n",
        "    eve_raw_key[ind]=SA_0[0][i]\n",
        "\n",
        "\n",
        "  for i in range(num_qubits):\n",
        "    if(i in SA_0[1]):\n",
        "      BE+='x'\n",
        "    else:\n",
        "      BE+=BA[i]\n",
        "\n",
        "\n",
        "  bob_basis   = \"\".join(str(i) for i in list(np.random.randint(2, size=num_qubits)))\n",
        "  #Quantum Channel\n",
        "  qr,crB,quantumChannelA2B=SendQ_eve(num_qubits,eve_raw_key,BE,user=\"Eve\")\n",
        "  quantumChannelB=ReceiveQ(num_qubits,bob_basis, qr,crB,quantumChannelA2B,user=\"Bob\")\n",
        "  resultBshots=sim_circuits(quantumChannelB,shots=1)\n",
        "\n",
        "  resultB=list(resultBshots.keys())[0][::-1]\n",
        "\n",
        "\n",
        "  # for i,v in resultBshots.items():\n",
        "  #   resultB=i[::-1]\n",
        "  KsiftedB=Sift(num_qubits,resultB,bitarray2str(BA_0),bob_basis)\n",
        "  KB,SBv,SBi=Sample(KsiftedB,bitarray2str(BA_0),bob_basis)\n",
        "  # print(len(SA_0[0]),len(SBv))\n",
        "  if(len(SA_0[0])==len(SBv)):\n",
        "\n",
        "    qber=calculate_qber(SA_0[0],SBv)\n",
        "    print(qber)\n",
        "    # else:\n",
        "    #   print(\"Error\")"
      ],
      "metadata": {
        "colab": {
          "base_uri": "https://localhost:8080/"
        },
        "id": "G_RSX6Nx9iM_",
        "outputId": "c7098a19-2e41-4021-f5c2-0b42fb5b0ce3"
      },
      "execution_count": null,
      "outputs": [
        {
          "output_type": "stream",
          "name": "stdout",
          "text": [
            "0.42857142857142855\n",
            "0.6030534351145038\n"
          ]
        }
      ]
    },
    {
      "cell_type": "code",
      "source": [],
      "metadata": {
        "id": "0bJvis87-XsE"
      },
      "execution_count": null,
      "outputs": []
    },
    {
      "cell_type": "code",
      "source": [],
      "metadata": {
        "id": "mDviFW18B4D5"
      },
      "execution_count": null,
      "outputs": []
    },
    {
      "cell_type": "code",
      "source": [],
      "metadata": {
        "id": "NWQEr1QgC9Oa"
      },
      "execution_count": null,
      "outputs": []
    },
    {
      "cell_type": "code",
      "source": [],
      "metadata": {
        "id": "mL8pma4XC9Lw"
      },
      "execution_count": null,
      "outputs": []
    },
    {
      "cell_type": "code",
      "source": [],
      "metadata": {
        "id": "JWU6-5JyC9JT"
      },
      "execution_count": null,
      "outputs": []
    },
    {
      "cell_type": "code",
      "source": [],
      "metadata": {
        "id": "INsmluSSB4B2"
      },
      "execution_count": null,
      "outputs": []
    },
    {
      "cell_type": "code",
      "execution_count": null,
      "metadata": {
        "id": "IZAfsmgKyoE0"
      },
      "outputs": [],
      "source": [
        "# KsiftedB=Sift(num_qubits,resultB,bitarray2str(BA_0),bob_basis)\n",
        "# KB,SBv,SBi=Sample(KsiftedB,bitarray2str(BA_0),bob_basis)\n",
        "\n",
        "# if(len(SA_0[0])==len(SBv)):\n",
        "#   qber=calculate_qber(SA_0[0],SBv)\n",
        "#   print(qber)\n",
        "# else:\n",
        "#   print(\"Error\")"
      ]
    },
    {
      "cell_type": "code",
      "execution_count": null,
      "metadata": {
        "id": "4vzV6fxFkdxG"
      },
      "outputs": [],
      "source": []
    },
    {
      "cell_type": "code",
      "execution_count": null,
      "metadata": {
        "id": "1L5Q9bp5zjV0"
      },
      "outputs": [],
      "source": []
    },
    {
      "cell_type": "code",
      "execution_count": null,
      "metadata": {
        "id": "VxcmQDK-zjEw"
      },
      "outputs": [],
      "source": []
    },
    {
      "cell_type": "code",
      "execution_count": null,
      "metadata": {
        "id": "ylm8-KBWqCnt"
      },
      "outputs": [],
      "source": []
    },
    {
      "cell_type": "code",
      "execution_count": null,
      "metadata": {
        "id": "6qf38PjOk_4S"
      },
      "outputs": [],
      "source": [
        "num_qubits = 100\n",
        "bob_basis   = list(np.random.randint(2, size=num_qubits))"
      ]
    },
    {
      "cell_type": "code",
      "execution_count": null,
      "metadata": {
        "id": "qqL-T5jNZ0KX",
        "colab": {
          "base_uri": "https://localhost:8080/",
          "height": 211
        },
        "outputId": "34252a03-0c01-4ab6-9974-6718049ab171"
      },
      "outputs": [
        {
          "output_type": "error",
          "ename": "NameError",
          "evalue": "name 'num_qubits' is not defined",
          "traceback": [
            "\u001b[0;31m---------------------------------------------------------------------------\u001b[0m",
            "\u001b[0;31mNameError\u001b[0m                                 Traceback (most recent call last)",
            "\u001b[0;32m<ipython-input-35-379a46f9d155>\u001b[0m in \u001b[0;36m<cell line: 1>\u001b[0;34m()\u001b[0m\n\u001b[1;32m      1\u001b[0m \u001b[0;32mfor\u001b[0m \u001b[0mi\u001b[0m \u001b[0;32min\u001b[0m \u001b[0mrange\u001b[0m\u001b[0;34m(\u001b[0m\u001b[0;36m1000\u001b[0m\u001b[0;34m)\u001b[0m\u001b[0;34m:\u001b[0m\u001b[0;34m\u001b[0m\u001b[0;34m\u001b[0m\u001b[0m\n\u001b[0;32m----> 2\u001b[0;31m   \u001b[0malice_raw_key\u001b[0m   \u001b[0;34m=\u001b[0m \u001b[0mlist\u001b[0m\u001b[0;34m(\u001b[0m\u001b[0mnp\u001b[0m\u001b[0;34m.\u001b[0m\u001b[0mrandom\u001b[0m\u001b[0;34m.\u001b[0m\u001b[0mrandint\u001b[0m\u001b[0;34m(\u001b[0m\u001b[0;36m2\u001b[0m\u001b[0;34m,\u001b[0m \u001b[0msize\u001b[0m\u001b[0;34m=\u001b[0m\u001b[0mnum_qubits\u001b[0m\u001b[0;34m)\u001b[0m\u001b[0;34m)\u001b[0m\u001b[0;34m\u001b[0m\u001b[0;34m\u001b[0m\u001b[0m\n\u001b[0m\u001b[1;32m      3\u001b[0m   \u001b[0malice_basis\u001b[0m \u001b[0;34m=\u001b[0m \u001b[0mlist\u001b[0m\u001b[0;34m(\u001b[0m\u001b[0mnp\u001b[0m\u001b[0;34m.\u001b[0m\u001b[0mrandom\u001b[0m\u001b[0;34m.\u001b[0m\u001b[0mrandint\u001b[0m\u001b[0;34m(\u001b[0m\u001b[0;36m2\u001b[0m\u001b[0;34m,\u001b[0m \u001b[0msize\u001b[0m\u001b[0;34m=\u001b[0m\u001b[0mnum_qubits\u001b[0m\u001b[0;34m)\u001b[0m\u001b[0;34m)\u001b[0m\u001b[0;34m\u001b[0m\u001b[0;34m\u001b[0m\u001b[0m\n\u001b[1;32m      4\u001b[0m \u001b[0;34m\u001b[0m\u001b[0m\n\u001b[1;32m      5\u001b[0m   \u001b[0;31m#Quantum Channel\u001b[0m\u001b[0;34m\u001b[0m\u001b[0;34m\u001b[0m\u001b[0m\n",
            "\u001b[0;31mNameError\u001b[0m: name 'num_qubits' is not defined"
          ]
        }
      ],
      "source": [
        "for i in range(1000):\n",
        "  alice_raw_key   = list(np.random.randint(2, size=num_qubits))\n",
        "  alice_basis = list(np.random.randint(2, size=num_qubits))\n",
        "\n",
        "  #Quantum Channel\n",
        "  qr,crB,quantumChannelA2B=SendQ(num_qubits,alice_raw_key,alice_basis,user=\"Alice\")\n",
        "  quantumChannelB=ReceiveQ(num_qubits,bob_basis, qr,crB,quantumChannelA2B,user=\"Bob\")\n",
        "  resultB=list(sim_circuits(quantumChannelB,shots=1).keys())[0][::-1]\n",
        "\n",
        "  #Sift\n",
        "  KsiftedB=Sift(num_qubits,resultB,alice_basis,bob_basis)\n",
        "  SB,KB=Sample(KsiftedB,alice_basis,bob_basis)\n",
        "\n",
        "  KsiftedA=Sift(num_qubits,alice_raw_key,alice_basis,bob_basis)\n",
        "  SA,KA=Sample(KsiftedA, alice_raw_key, bob_basis)\n",
        "  # print(SB)\n",
        "  # print(SA)\n",
        "  if(len(SA)==len(SB)):\n",
        "    print(calculate_qber(SA,SB))"
      ]
    },
    {
      "cell_type": "code",
      "execution_count": null,
      "metadata": {
        "id": "G1Z4-XUUk6p7"
      },
      "outputs": [],
      "source": [
        "quantumChannelB=ReceiveQ(num_qubits,bob_basis, qr,crB,quantumChannelA2B,user=\"Bob\")\n",
        "KsiftedB=Sift(num_qubits,resultB,BA_0,bob_basis)"
      ]
    },
    {
      "cell_type": "code",
      "execution_count": null,
      "metadata": {
        "id": "20sCek47k4KA"
      },
      "outputs": [],
      "source": []
    },
    {
      "cell_type": "code",
      "execution_count": null,
      "metadata": {
        "id": "Nmb9ff5HklHQ"
      },
      "outputs": [],
      "source": [
        "#Sift\n",
        "\n",
        "# KsiftedA=Sift(num_qubits,\"\".join(str(i) for i in alice_raw_key),BA_0,bob_basis)\n",
        "\n",
        "#ParameterEstimation\n",
        "##Sample\n",
        "\n",
        "# SA,KA=Sample(KsiftedA,BA_0,bob_basis)\n",
        "SA=SA_0\n",
        "SB,KB=Sample(KsiftedB,BA_0,bob_basis)\n",
        "\n",
        "# print(SA)\n",
        "# print(SB)\n",
        "\n",
        "print(len(SA),len(SB))\n",
        "\n",
        "# print(calculate_qber(SA,SB))\n",
        "# print(KsiftedA, KsiftedB)\n",
        "# CheckEveB=hamming_distance(SA,SB)/len(SB)\n",
        "# print(CheckEveB)\n",
        "# print(resultB)"
      ]
    },
    {
      "cell_type": "code",
      "source": [
        "import random\n",
        "\n",
        "\n",
        "# Basis choices for measurement (0: Z-basis, 1: X-basis)\n",
        "def random_bases(n):\n",
        "    return [random.choice([0, 1]) for _ in range(n)]\n",
        "\n",
        "def BBM92(n_qubits,alice_bases,bob_bases):\n",
        "  # Create the entangled state\n",
        "  def create_entangled_pair():\n",
        "      qc = QuantumCircuit(2, 2)\n",
        "      qc.h(0)  # Apply Hadamard gate on qubit 0\n",
        "      qc.cx(0, 1)  # CNOT gate to entangle qubits\n",
        "      return qc\n",
        "\n",
        "  # Measure based on chosen basis\n",
        "  def measure_in_basis(qc, basis, qubit, clbit):\n",
        "      if basis == 1:\n",
        "          qc.h(qubit)  # Apply Hadamard for X-basis measurement\n",
        "      qc.measure(qubit, clbit)  # Measure in the chosen basis\n",
        "\n",
        "  # Initialize key lists and bases\n",
        "  alice_key = []\n",
        "  bob_key = []\n",
        "\n",
        "\n",
        "  # Run the protocol for each qubit pair\n",
        "  for i in range(n_qubits):\n",
        "      qc = create_entangled_pair()\n",
        "\n",
        "      # Alice and Bob measure in their chosen basis\n",
        "      measure_in_basis(qc, alice_bases[i], 0, 0)\n",
        "      measure_in_basis(qc, bob_bases[i], 1, 1)\n",
        "\n",
        "      # Run the quantum circuit\n",
        "      backend = AerSimulator(method='matrix_product_state')\n",
        "      job = backend.run(qc, shots=1)\n",
        "      results = job.result()\n",
        "\n",
        "      counts = results.get_counts()\n",
        "      outcome = list(counts.keys())[0]\n",
        "\n",
        "      # Record the bits if bases match\n",
        "      if alice_bases[i] == bob_bases[i]:\n",
        "          alice_key.append(int(outcome[1]))  # Alice's result (qubit 0)\n",
        "          bob_key.append(int(outcome[0]))    # Bob's result (qubit 1)\n",
        "\n",
        "\n",
        "  return alice_key,bob_key"
      ],
      "metadata": {
        "id": "0jnBykOavSUT"
      },
      "execution_count": null,
      "outputs": []
    },
    {
      "cell_type": "code",
      "source": [
        "# Number of qubit pairs to be used for key generation\n",
        "n_qubits = 100\n",
        "alice_bases = random_bases(n_qubits)\n",
        "bob_bases = random_bases(n_qubits)\n",
        "\n",
        "alice_key,bob_key=BBM92(n_qubits,alice_bases,bob_bases)\n",
        "\n",
        "\n",
        "# Display the final key\n",
        "print(\"Alice's key:\", alice_key)\n",
        "print(\"Bob's key:  \", bob_key)\n",
        "\n",
        "# Compare keys to confirm they match (in a real implementation, privacy amplification would follow)\n"
      ],
      "metadata": {
        "colab": {
          "base_uri": "https://localhost:8080/"
        },
        "id": "HsdBjZb0wcRM",
        "outputId": "90eb8c31-28be-4464-a655-ee6fd2a9715c"
      },
      "execution_count": null,
      "outputs": [
        {
          "output_type": "stream",
          "name": "stdout",
          "text": [
            "Alice's key: [1, 0, 1, 1, 1, 1, 1, 1, 1, 1, 1, 1, 0, 0, 1, 0, 0, 0, 0, 1, 0, 1, 1, 0, 0, 0, 0, 1, 0, 1, 1, 0, 0, 0, 0, 0, 1, 1, 0, 0, 0, 1]\n",
            "Bob's key:   [1, 0, 1, 1, 1, 1, 1, 1, 1, 1, 1, 1, 0, 0, 1, 0, 0, 0, 0, 1, 0, 1, 1, 0, 0, 0, 0, 1, 0, 1, 1, 0, 0, 0, 0, 0, 1, 1, 0, 0, 0, 1]\n"
          ]
        }
      ]
    },
    {
      "cell_type": "code",
      "source": [
        "\n",
        "# Number of qubit pairs to be used for key generation\n",
        "n_qubits = 100\n",
        "\n",
        "# Define basis sets for Alice and Bob based on Bell's theorem settings\n",
        "# Basis angles for measurements:\n",
        "# Alice: A1 = 0°, A2 = 45°\n",
        "# Bob: B1 = 22.5°, B2 = 67.5°\n",
        "alice_bases = [random.choice([0, 45]) for _ in range(n_qubits)]\n",
        "bob_bases = [random.choice([22.5, 67.5]) for _ in range(n_qubits)]\n",
        "\n",
        "# Create entangled pair\n",
        "def create_entangled_pair():\n",
        "    qc = QuantumCircuit(2, 2)\n",
        "    qc.h(0)  # Hadamard gate on qubit 0\n",
        "    qc.cx(0, 1)  # CNOT gate to create entanglement\n",
        "    return qc\n",
        "\n",
        "# Measure in basis\n",
        "def measure_in_basis(qc, angle, qubit, clbit):\n",
        "    # Rotate qubit by specified angle (converted from degrees to radians)\n",
        "    qc.ry(2 * angle * (3.14159265 / 180), qubit)\n",
        "    qc.measure(qubit, clbit)  # Measure in rotated basis\n",
        "\n",
        "# Initialize key lists\n",
        "alice_key = []\n",
        "bob_key = []\n",
        "\n",
        "# Run the protocol for each qubit pair\n",
        "backend = AerSimulator(method='matrix_product_state')\n",
        "for i in range(n_qubits):\n",
        "    qc = create_entangled_pair()\n",
        "\n",
        "    # Apply Alice and Bob's measurement angles\n",
        "    measure_in_basis(qc, alice_bases[i], 0, 0)\n",
        "    measure_in_basis(qc, bob_bases[i], 1, 1)\n",
        "\n",
        "    # Execute the quantum circuit\n",
        "    job = backend.run(qc, shots=1)\n",
        "    results = job.result()\n",
        "    counts = results.get_counts()\n",
        "    outcome = list(counts.keys())[0]\n",
        "\n",
        "    # Interpret results based on measurement outcomes\n",
        "    alice_result = int(outcome[1])  # Alice's result (qubit 0)\n",
        "    bob_result = int(outcome[0])    # Bob's result (qubit 1)\n",
        "\n",
        "    # If the measurement bases (angles) are compatible, add to the key\n",
        "    # Compatible pairs are (A1, B1) or (A2, B2)\n",
        "    if (alice_bases[i] == 0 and bob_bases[i] == 22.5) or (alice_bases[i] == 45 and bob_bases[i] == 67.5):\n",
        "        alice_key.append(alice_result)\n",
        "        bob_key.append(bob_result)\n",
        "\n",
        "# Display the final key\n",
        "print(\"Alice's key:\", alice_key)\n",
        "print(\"Bob's key:  \", bob_key)\n",
        "\n",
        "# In a real implementation, they would compare a subset of the key to check for eavesdropping,\n",
        "# and then perform privacy amplification.\n"
      ],
      "metadata": {
        "colab": {
          "base_uri": "https://localhost:8080/"
        },
        "id": "MjQq8ifuwmWk",
        "outputId": "9fa991db-415d-4937-f59d-917f29125cd1"
      },
      "execution_count": null,
      "outputs": [
        {
          "output_type": "stream",
          "name": "stdout",
          "text": [
            "Alice's key: [1, 0, 1, 0, 0, 1, 1, 0, 1, 1, 0, 1, 1, 0, 0, 0, 0, 0, 0, 0, 0, 0, 0, 0, 0, 0, 0, 0, 0, 1, 0, 0, 1, 1, 0, 0, 1, 1, 0, 0, 1]\n",
            "Bob's key:   [1, 0, 1, 1, 1, 1, 1, 0, 1, 1, 1, 1, 1, 0, 0, 0, 0, 0, 0, 0, 1, 0, 0, 0, 1, 0, 0, 1, 0, 1, 0, 0, 1, 1, 0, 0, 1, 1, 0, 0, 1]\n"
          ]
        }
      ]
    }
  ],
  "metadata": {
    "colab": {
      "collapsed_sections": [
        "3t6TVAWx68e0",
        "Dyd7ZxGP6_Tn",
        "R1s_izCrOnXv",
        "Ln_ZhfALG9jY",
        "Ozf78f0mV6U9",
        "PoflUZYhEXAx",
        "liKgHUXmfvtQ",
        "uZVa-4Zf8d7x",
        "pwYV3dimnivK"
      ],
      "provenance": []
    },
    "kernelspec": {
      "display_name": "Python 3",
      "name": "python3"
    },
    "language_info": {
      "name": "python"
    }
  },
  "nbformat": 4,
  "nbformat_minor": 0
}